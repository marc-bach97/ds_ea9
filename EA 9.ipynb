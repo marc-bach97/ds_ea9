{
 "cells": [
  {
   "cell_type": "code",
   "execution_count": 102,
   "id": "ec091806-fd22-471b-9058-b5ef3c59b417",
   "metadata": {},
   "outputs": [],
   "source": [
    "import numpy as np\n",
    "import pandas as pd\n",
    "import matplotlib.pyplot as plt\n",
    "import seaborn as sns\n",
    "from sklearn.model_selection import train_test_split\n",
    "from sklearn.preprocessing import LabelEncoder, StandardScaler\n",
    "from sklearn.ensemble import RandomForestClassifier\n",
    "from sklearn.metrics import accuracy_score, classification_report, confusion_matrix, precision_score, recall_score, f1_score\n",
    "from sklearn.linear_model import LogisticRegression\n",
    "from sklearn.neighbors import KNeighborsClassifier\n",
    "from sklearn.tree import DecisionTreeClassifier\n",
    "from sklearn.neural_network import MLPClassifier"
   ]
  },
  {
   "cell_type": "code",
   "execution_count": 103,
   "id": "1c40e701-fb65-4bb0-af6a-c6d879adbcc4",
   "metadata": {},
   "outputs": [],
   "source": [
    "data_training = pd.read_csv(\"data/aug_train.csv\")\n",
    "data_testing = pd.read_csv(\"data/aug_test.csv\")"
   ]
  },
  {
   "cell_type": "code",
   "execution_count": 104,
   "id": "a1261c38-a37d-44cb-bf33-0a1df382411c",
   "metadata": {},
   "outputs": [
    {
     "data": {
      "text/html": [
       "<div>\n",
       "<style scoped>\n",
       "    .dataframe tbody tr th:only-of-type {\n",
       "        vertical-align: middle;\n",
       "    }\n",
       "\n",
       "    .dataframe tbody tr th {\n",
       "        vertical-align: top;\n",
       "    }\n",
       "\n",
       "    .dataframe thead th {\n",
       "        text-align: right;\n",
       "    }\n",
       "</style>\n",
       "<table border=\"1\" class=\"dataframe\">\n",
       "  <thead>\n",
       "    <tr style=\"text-align: right;\">\n",
       "      <th></th>\n",
       "      <th>city_development_index</th>\n",
       "      <th>gender</th>\n",
       "      <th>relevent_experience</th>\n",
       "      <th>enrolled_university</th>\n",
       "      <th>education_level</th>\n",
       "      <th>major_discipline</th>\n",
       "      <th>experience</th>\n",
       "      <th>company_type</th>\n",
       "      <th>last_new_job</th>\n",
       "      <th>training_hours</th>\n",
       "      <th>target</th>\n",
       "    </tr>\n",
       "  </thead>\n",
       "  <tbody>\n",
       "    <tr>\n",
       "      <th>0</th>\n",
       "      <td>0.624</td>\n",
       "      <td>Male</td>\n",
       "      <td>No relevent experience</td>\n",
       "      <td>no_enrollment</td>\n",
       "      <td>High School</td>\n",
       "      <td>NaN</td>\n",
       "      <td>5</td>\n",
       "      <td>NaN</td>\n",
       "      <td>never</td>\n",
       "      <td>21</td>\n",
       "      <td>0</td>\n",
       "    </tr>\n",
       "    <tr>\n",
       "      <th>1</th>\n",
       "      <td>0.926</td>\n",
       "      <td>Male</td>\n",
       "      <td>Has relevent experience</td>\n",
       "      <td>no_enrollment</td>\n",
       "      <td>Graduate</td>\n",
       "      <td>STEM</td>\n",
       "      <td>&gt;20</td>\n",
       "      <td>NaN</td>\n",
       "      <td>&gt;4</td>\n",
       "      <td>12</td>\n",
       "      <td>0</td>\n",
       "    </tr>\n",
       "    <tr>\n",
       "      <th>2</th>\n",
       "      <td>0.920</td>\n",
       "      <td>Male</td>\n",
       "      <td>Has relevent experience</td>\n",
       "      <td>no_enrollment</td>\n",
       "      <td>Graduate</td>\n",
       "      <td>STEM</td>\n",
       "      <td>&gt;20</td>\n",
       "      <td>Public Sector</td>\n",
       "      <td>&gt;4</td>\n",
       "      <td>26</td>\n",
       "      <td>0</td>\n",
       "    </tr>\n",
       "    <tr>\n",
       "      <th>3</th>\n",
       "      <td>0.624</td>\n",
       "      <td>Male</td>\n",
       "      <td>No relevent experience</td>\n",
       "      <td>Full time course</td>\n",
       "      <td>High School</td>\n",
       "      <td>NaN</td>\n",
       "      <td>1</td>\n",
       "      <td>NaN</td>\n",
       "      <td>never</td>\n",
       "      <td>30</td>\n",
       "      <td>1</td>\n",
       "    </tr>\n",
       "    <tr>\n",
       "      <th>4</th>\n",
       "      <td>0.920</td>\n",
       "      <td>Female</td>\n",
       "      <td>Has relevent experience</td>\n",
       "      <td>no_enrollment</td>\n",
       "      <td>Masters</td>\n",
       "      <td>STEM</td>\n",
       "      <td>&gt;20</td>\n",
       "      <td>NaN</td>\n",
       "      <td>&gt;4</td>\n",
       "      <td>46</td>\n",
       "      <td>0</td>\n",
       "    </tr>\n",
       "  </tbody>\n",
       "</table>\n",
       "</div>"
      ],
      "text/plain": [
       "   city_development_index  gender      relevent_experience  \\\n",
       "0                   0.624    Male   No relevent experience   \n",
       "1                   0.926    Male  Has relevent experience   \n",
       "2                   0.920    Male  Has relevent experience   \n",
       "3                   0.624    Male   No relevent experience   \n",
       "4                   0.920  Female  Has relevent experience   \n",
       "\n",
       "  enrolled_university education_level major_discipline experience  \\\n",
       "0       no_enrollment     High School              NaN          5   \n",
       "1       no_enrollment        Graduate             STEM        >20   \n",
       "2       no_enrollment        Graduate             STEM        >20   \n",
       "3    Full time course     High School              NaN          1   \n",
       "4       no_enrollment         Masters             STEM        >20   \n",
       "\n",
       "    company_type last_new_job  training_hours  target  \n",
       "0            NaN        never              21       0  \n",
       "1            NaN           >4              12       0  \n",
       "2  Public Sector           >4              26       0  \n",
       "3            NaN        never              30       1  \n",
       "4            NaN           >4              46       0  "
      ]
     },
     "execution_count": 104,
     "metadata": {},
     "output_type": "execute_result"
    }
   ],
   "source": [
    "data_training.head()"
   ]
  },
  {
   "cell_type": "code",
   "execution_count": 105,
   "id": "25da874f-b6bf-48b3-8221-4419eb343e45",
   "metadata": {},
   "outputs": [],
   "source": [
    "def clean_columns(df):\n",
    "    # Replace '>20' with 21 and '<1' with 1 in the experience column\n",
    "    df['experience'] = df['experience'].replace({'>20': 21, '<1': 1})\n",
    "    # Impute missing values with the median and convert to integer\n",
    "    df['experience'] = df['experience'].fillna(df['experience'].median()).astype(int)\n",
    "    \n",
    "    # Replace '>4' with 5 and 'never' with 0 in the last_new_job column\n",
    "    df['last_new_job'] = df['last_new_job'].replace({'>4': 5, 'never': 0})\n",
    "    # Impute missing values with the median and convert to integer\n",
    "    df['last_new_job'] = df['last_new_job'].fillna(df['last_new_job'].median()).astype(int)\n",
    "    \n",
    "    return df\n"
   ]
  },
  {
   "cell_type": "code",
   "execution_count": 106,
   "id": "f91099a4-d13c-4340-87b4-4afc5af3dce1",
   "metadata": {},
   "outputs": [
    {
     "name": "stdout",
     "output_type": "stream",
     "text": [
      "   experience  last_new_job\n",
      "0           5             0\n",
      "1          21             5\n",
      "2          21             5\n",
      "3           1             0\n",
      "4          21             5\n",
      "   experience  last_new_job\n",
      "0           3             1\n",
      "1           5             1\n",
      "2          10             2\n",
      "3          10             0\n",
      "4           3             1\n"
     ]
    }
   ],
   "source": [
    "# Apply the function to both training and testing data\n",
    "data_training = clean_columns(data_training)\n",
    "data_testing = clean_columns(data_testing)\n",
    "\n",
    "# Display the first few rows to verify the changes\n",
    "print(data_training[['experience', 'last_new_job']].head())\n",
    "print(data_testing[['experience', 'last_new_job']].head())"
   ]
  },
  {
   "cell_type": "code",
   "execution_count": 107,
   "id": "405f5f78-256b-4321-bb18-883d917d0a9a",
   "metadata": {},
   "outputs": [],
   "source": [
    "# Handle missing values in categorical columns\n",
    "categorical_columns = ['gender', 'relevent_experience', 'enrolled_university', 'education_level', 'major_discipline', 'company_type']\n",
    "for col in categorical_columns:\n",
    "    data_training[col].fillna('Unknown', inplace=True)\n",
    "    data_testing[col].fillna('Unknown', inplace=True)"
   ]
  },
  {
   "cell_type": "code",
   "execution_count": 108,
   "id": "cf4ae466-6263-4528-a3bf-eef95822d07f",
   "metadata": {},
   "outputs": [],
   "source": [
    "# Encode categorical variables\n",
    "le = LabelEncoder()\n",
    "for col in categorical_columns:\n",
    "    data_training[col] = le.fit_transform(data_training[col])\n",
    "    data_testing[col] = le.transform(data_testing[col])"
   ]
  },
  {
   "cell_type": "code",
   "execution_count": 109,
   "id": "046bea01-9f99-4d0b-ad17-c13860cdd218",
   "metadata": {},
   "outputs": [],
   "source": [
    "# Split the training data into features and target\n",
    "X = data_training.drop(columns=['target'])\n",
    "y = data_training['target']\n",
    "\n",
    "# Standardize numerical features\n",
    "numerical_columns = ['city_development_index', 'experience', 'training_hours']\n",
    "scaler = StandardScaler()\n",
    "X[numerical_columns] = scaler.fit_transform(X[numerical_columns])\n"
   ]
  },
  {
   "cell_type": "code",
   "execution_count": 110,
   "id": "95d21356-07b1-48dd-b7a8-7390d17be36b",
   "metadata": {},
   "outputs": [],
   "source": [
    "# Split the data into training and validation sets\n",
    "X_train, X_val, y_train, y_val = train_test_split(X, y, test_size=0.2, random_state=42)"
   ]
  },
  {
   "cell_type": "code",
   "execution_count": 111,
   "id": "f56d6724-14f9-42bb-be3e-a7d6fce78c81",
   "metadata": {},
   "outputs": [
    {
     "name": "stdout",
     "output_type": "stream",
     "text": [
      "Training Accuracy: 0.8976190476190476\n",
      "Training Precision: 0.7867298578199052\n",
      "Training Recall: 0.8019323671497585\n",
      "Training F1-score: 0.7942583732057417\n",
      "Training Confusion Matrix:\n",
      "[[1176   90]\n",
      " [  82  332]]\n"
     ]
    }
   ],
   "source": [
    "clf = RandomForestClassifier(n_estimators=1,max_features=7)\n",
    "\n",
    "clf.fit(X_train, y_train)\n",
    "\n",
    "# Predict on the training set\n",
    "y_train_pred = clf.predict(X_train)\n",
    "\n",
    "# Evaluate the model on the training set\n",
    "train_accuracy = accuracy_score(y_train, y_train_pred)\n",
    "train_precision = precision_score(y_train, y_train_pred)\n",
    "train_recall = recall_score(y_train, y_train_pred)\n",
    "train_f1 = f1_score(y_train, y_train_pred)\n",
    "train_confusion_matrix = confusion_matrix(y_train, y_train_pred)\n",
    "\n",
    "print(f'Training Accuracy: {train_accuracy}')\n",
    "print(f'Training Precision: {train_precision}')\n",
    "print(f'Training Recall: {train_recall}')\n",
    "print(f'Training F1-score: {train_f1}')\n",
    "print('Training Confusion Matrix:')\n",
    "print(train_confusion_matrix)"
   ]
  },
  {
   "cell_type": "code",
   "execution_count": 112,
   "id": "e2c29fba-f9ad-418f-a33c-f4bbfe5f6c7f",
   "metadata": {},
   "outputs": [
    {
     "name": "stdout",
     "output_type": "stream",
     "text": [
      "Accuracy: 0.5700\n",
      "Precision: 0.1111\n",
      "Recall: 0.1364\n",
      "F1-score: 0.1224\n",
      "Confusion Matrix:\n",
      "[[54 24]\n",
      " [19  3]]\n"
     ]
    }
   ],
   "source": [
    "# Predict on the testing set\n",
    "X_test = data_testing.drop(columns=['target']) \n",
    "y_test = data_testing['target']\n",
    "\n",
    "\n",
    "# Make predictions\n",
    "predictions = clf.predict(X_test)\n",
    "\n",
    "# Calculate metrics\n",
    "accuracy = accuracy_score(y_test, predictions)\n",
    "precision = precision_score(y_test, predictions)\n",
    "recall = recall_score(y_test, predictions)\n",
    "f1 = f1_score(y_test, predictions)\n",
    "conf_matrix = confusion_matrix(y_test, predictions)\n",
    "\n",
    "print(f\"Accuracy: {accuracy:.4f}\")\n",
    "print(f\"Precision: {precision:.4f}\")\n",
    "print(f\"Recall: {recall:.4f}\")\n",
    "print(f\"F1-score: {f1:.4f}\")\n",
    "print(\"Confusion Matrix:\")\n",
    "print(conf_matrix)"
   ]
  },
  {
   "cell_type": "markdown",
   "id": "af7e848e-0c7d-43e5-8099-8a353e368d61",
   "metadata": {},
   "source": [
    "#### Extra point"
   ]
  },
  {
   "cell_type": "markdown",
   "id": "4ffb5e10-af7b-4dbd-a2cc-fe6565540cf3",
   "metadata": {},
   "source": [
    "Think about what kind of the method can increase the performance"
   ]
  },
  {
   "cell_type": "markdown",
   "id": "432c10ec-3972-4881-ad92-4e661b74a79a",
   "metadata": {},
   "source": [
    "To potentially increase the performance of our classification model, we can consider several methods like \n",
    "Identify and select the most relevant features that contribute most to the prediction task.\n",
    "Feature Transformation: Transform features using techniques like scaling (e.g., StandardScaler), normalization, or applying transformations like log or power transformations to better fit the assumptions of the model."
   ]
  }
 ],
 "metadata": {
  "kernelspec": {
   "display_name": "Python 3 (ipykernel)",
   "language": "python",
   "name": "python3"
  },
  "language_info": {
   "codemirror_mode": {
    "name": "ipython",
    "version": 3
   },
   "file_extension": ".py",
   "mimetype": "text/x-python",
   "name": "python",
   "nbconvert_exporter": "python",
   "pygments_lexer": "ipython3",
   "version": "3.11.7"
  }
 },
 "nbformat": 4,
 "nbformat_minor": 5
}
